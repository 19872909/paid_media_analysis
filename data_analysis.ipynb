{
 "cells": [
  {
   "cell_type": "code",
   "execution_count": 1,
   "id": "a7fbb0ff",
   "metadata": {},
   "outputs": [],
   "source": [
    "import pandas as pd\n",
    "import matplotlib.pyplot as plt\n",
    "import seaborn as sns\n",
    "import numpy as np"
   ]
  },
  {
   "cell_type": "code",
   "execution_count": 2,
   "id": "eed5af5d",
   "metadata": {},
   "outputs": [],
   "source": [
    "spend = pd.read_csv('Spend.csv', sep=';')\n",
    "leads = pd.read_csv('Leads.csv', sep=';')\n",
    "mqls = pd.read_csv('MQLs.csv', sep=';')\n",
    "opportunities= pd.read_csv('Pipeline_Opportunities.csv', sep=';')\n",
    "bookings = pd.read_csv('Closed_Won_Bookings.csv', sep=';')"
   ]
  },
  {
   "cell_type": "markdown",
   "id": "0494ebe8",
   "metadata": {},
   "source": [
    "#### 1. How many leads, MQLS, and Opportunties and Closed Won Bookings were created each month?"
   ]
  },
  {
   "cell_type": "code",
   "execution_count": 3,
   "id": "a7fe21ed",
   "metadata": {},
   "outputs": [],
   "source": [
    "# Convert to datetime\n",
    "bookings['date'] = pd.to_datetime(bookings['Close Date'], format='%m/%d/%Y')\n",
    "# Format to Month/Year\n",
    "bookings['month_year'] = bookings['date'].dt.strftime('%m/%Y')\n",
    "#Group by month/year\n",
    "grouped_bookings = round(bookings['UTM_Campaign'].groupby(bookings['month_year']).count(),0)"
   ]
  },
  {
   "cell_type": "code",
   "execution_count": 4,
   "id": "7bbf7fdb",
   "metadata": {},
   "outputs": [],
   "source": [
    "opportunities['date'] = pd.to_datetime(opportunities['Reached Pipeline Opportunity Date'], format='%m/%d/%Y')\n",
    "# Format to Month/Year\n",
    "opportunities['month_year'] = opportunities['date'].dt.strftime('%m/%Y')\n",
    "#Group by month/year\n",
    "grouped_opportunities = round(opportunities['UTM_Campaign'].groupby(opportunities['month_year']).count(),0)"
   ]
  },
  {
   "cell_type": "code",
   "execution_count": 5,
   "id": "bb01b94a",
   "metadata": {},
   "outputs": [],
   "source": [
    "mqls['date'] = pd.to_datetime(mqls['Marketing Qualified Date'], format='%m/%d/%Y %I:%M %p')\n",
    "# Format to Month/Year\n",
    "mqls['month_year'] = mqls['date'].dt.strftime('%m/%Y')\n",
    "#Group by month/year\n",
    "grouped_mqls = round(mqls['UTM_Campaign'].groupby(mqls['month_year']).count(),0)"
   ]
  },
  {
   "cell_type": "code",
   "execution_count": 6,
   "id": "26d94910",
   "metadata": {},
   "outputs": [],
   "source": [
    "leads['date'] = pd.to_datetime(leads['Created Date'], format='%m/%d/%Y')\n",
    "# Format to Month/Year\n",
    "leads['month_year'] = leads['date'].dt.strftime('%m/%Y')\n",
    "#Group by month/year\n",
    "grouped_leads = round(leads['UTM_Campaign'].groupby(leads['month_year']).count(),0)"
   ]
  },
  {
   "cell_type": "code",
   "execution_count": 7,
   "id": "aeaf7238",
   "metadata": {},
   "outputs": [],
   "source": [
    "# Combine the results\n",
    "grouped_df = pd.concat([grouped_leads, grouped_mqls, grouped_opportunities, grouped_bookings], \n",
    "                       axis=1, \n",
    "                       keys=['Leads','MQLs', 'Pipeline_Opportunities', 'Closed_Won_Bookings']).reset_index()"
   ]
  },
  {
   "cell_type": "code",
   "execution_count": 8,
   "id": "399bc1b4",
   "metadata": {},
   "outputs": [],
   "source": [
    "grouped_df['Leads'] = grouped_df['Leads'].astype('Int64')\n",
    "grouped_df['MQLs'] = grouped_df['MQLs'].astype('Int64')\n",
    "grouped_df['Closed_Won_Bookings'] = grouped_df['Closed_Won_Bookings'].astype('Int64')"
   ]
  },
  {
   "cell_type": "code",
   "execution_count": 9,
   "id": "85adb3a9",
   "metadata": {},
   "outputs": [],
   "source": [
    "grouped_df = grouped_df.rename(columns={'month_year':'Month'})\n",
    "grouped_df['Month'] = pd.to_datetime(grouped_df['Month'], format='%m/%Y')\n",
    "grouped_df = grouped_df.sort_values(by='Month')"
   ]
  },
  {
   "cell_type": "code",
   "execution_count": 10,
   "id": "2740f4a9",
   "metadata": {},
   "outputs": [],
   "source": [
    "#Removing the outlier \n",
    "c = grouped_df['Month'] != '2023-12-01'\n",
    "df_1 = grouped_df.loc[c,]\n",
    "df_1.set_index('Month', inplace=True)"
   ]
  },
  {
   "cell_type": "code",
   "execution_count": 11,
   "id": "f9d33bbb",
   "metadata": {},
   "outputs": [
    {
     "data": {
      "text/html": [
       "<div>\n",
       "<style scoped>\n",
       "    .dataframe tbody tr th:only-of-type {\n",
       "        vertical-align: middle;\n",
       "    }\n",
       "\n",
       "    .dataframe tbody tr th {\n",
       "        vertical-align: top;\n",
       "    }\n",
       "\n",
       "    .dataframe thead th {\n",
       "        text-align: right;\n",
       "    }\n",
       "</style>\n",
       "<table border=\"1\" class=\"dataframe\">\n",
       "  <thead>\n",
       "    <tr style=\"text-align: right;\">\n",
       "      <th></th>\n",
       "      <th>Leads</th>\n",
       "      <th>MQLs</th>\n",
       "      <th>Pipeline_Opportunities</th>\n",
       "      <th>Closed_Won_Bookings</th>\n",
       "    </tr>\n",
       "    <tr>\n",
       "      <th>Month</th>\n",
       "      <th></th>\n",
       "      <th></th>\n",
       "      <th></th>\n",
       "      <th></th>\n",
       "    </tr>\n",
       "  </thead>\n",
       "  <tbody>\n",
       "    <tr>\n",
       "      <th>2022-11-01</th>\n",
       "      <td>296</td>\n",
       "      <td>118</td>\n",
       "      <td>9</td>\n",
       "      <td>2</td>\n",
       "    </tr>\n",
       "    <tr>\n",
       "      <th>2022-12-01</th>\n",
       "      <td>1294</td>\n",
       "      <td>122</td>\n",
       "      <td>15</td>\n",
       "      <td>2</td>\n",
       "    </tr>\n",
       "    <tr>\n",
       "      <th>2023-01-01</th>\n",
       "      <td>672</td>\n",
       "      <td>193</td>\n",
       "      <td>29</td>\n",
       "      <td>5</td>\n",
       "    </tr>\n",
       "    <tr>\n",
       "      <th>2023-12-01</th>\n",
       "      <td>&lt;NA&gt;</td>\n",
       "      <td>&lt;NA&gt;</td>\n",
       "      <td>1</td>\n",
       "      <td>&lt;NA&gt;</td>\n",
       "    </tr>\n",
       "  </tbody>\n",
       "</table>\n",
       "</div>"
      ],
      "text/plain": [
       "            Leads  MQLs  Pipeline_Opportunities  Closed_Won_Bookings\n",
       "Month                                                               \n",
       "2022-11-01    296   118                       9                    2\n",
       "2022-12-01   1294   122                      15                    2\n",
       "2023-01-01    672   193                      29                    5\n",
       "2023-12-01   <NA>  <NA>                       1                 <NA>"
      ]
     },
     "execution_count": 11,
     "metadata": {},
     "output_type": "execute_result"
    }
   ],
   "source": [
    "grouped_df.set_index('Month', inplace=True)\n",
    "grouped_df"
   ]
  },
  {
   "cell_type": "code",
   "execution_count": 12,
   "id": "d02fb408",
   "metadata": {
    "scrolled": true
   },
   "outputs": [
    {
     "data": {
      "image/png": "[encoded data removed]",
      "text/plain": [
       "<Figure size 800x300 with 1 Axes>"
      ]
     },
     "metadata": {},
     "output_type": "display_data"
    }
   ],
   "source": [
    "palette = 'Paired'\n",
    "sns.set_palette(palette)\n",
    "\n",
    "\n",
    "plt.figure(figsize=(8, 3))\n",
    "for column in df_1.columns:\n",
    "    plt.plot(df_1.index, df_1[column], marker='o', label=column)\n",
    "\n",
    "plt.title('Funnel Stages by Month')\n",
    "plt.legend()\n",
    "plt.xticks(df_1.index, labels=df_1.index.strftime('%Y-%m'))  # Formatting x-axis labels for readability\n",
    "plt.grid(False)\n",
    "plt.show()"
   ]
  },
  {
   "cell_type": "markdown",
   "id": "4c9a5953",
   "metadata": {},
   "source": [
    "#### 2. How many leads, MQLS, and Opportunties were created for the account owner territories?  If account owner territory = blank, it is unmatched.  Also normalize the data by Segment (i.e. X Enterprise, X Emerging, X Scale, X SMB) "
   ]
  },
  {
   "cell_type": "code",
   "execution_count": 13,
   "id": "d8e0e6b0",
   "metadata": {},
   "outputs": [],
   "source": [
    "# Categories and keywords\n",
    "categories = {'Enterprise': ['Enterprise'],\n",
    "              'Emerging': ['Emerging'],\n",
    "              'Scale': ['Scale'],\n",
    "              'SMB': ['SMB'],}"
   ]
  },
  {
   "cell_type": "code",
   "execution_count": 14,
   "id": "cc5650c2",
   "metadata": {},
   "outputs": [],
   "source": [
    "# Function to assign category\n",
    "def assign_category(row):\n",
    "    if pd.isna(row):  \n",
    "        return 'Unmatched'  \n",
    "    for category, keywords in categories.items():\n",
    "        if any(keyword in row for keyword in keywords):\n",
    "            return category\n",
    "    return 'Other'"
   ]
  },
  {
   "cell_type": "code",
   "execution_count": 15,
   "id": "aae7f489",
   "metadata": {},
   "outputs": [],
   "source": [
    "# Apply the function\n",
    "leads['Segment'] = leads['Account Owner Territory'].apply(assign_category)\n",
    "mqls['Segment'] = mqls['Account Owner Territory'].apply(assign_category)\n",
    "opportunities['Segment'] = opportunities['Account Owner Territory'].apply(assign_category)"
   ]
  },
  {
   "cell_type": "code",
   "execution_count": 16,
   "id": "4016d978",
   "metadata": {},
   "outputs": [],
   "source": [
    "leads_seg = leads['Segment'].value_counts()\n",
    "mqls_seg = mqls['Segment'].value_counts()\n",
    "opportunities_seg = opportunities['Segment'].value_counts()"
   ]
  },
  {
   "cell_type": "code",
   "execution_count": 17,
   "id": "9b248777",
   "metadata": {},
   "outputs": [],
   "source": [
    "df_seg = pd.DataFrame({'Leads': leads_seg, 'MQLs': mqls_seg, 'Opportunities': opportunities_seg}).reset_index()\n",
    "df_seg = df_seg.rename(columns={'index':'Segment'})\n",
    "df_seg.reset_index(drop=True, inplace=True)"
   ]
  },
  {
   "cell_type": "code",
   "execution_count": 18,
   "id": "550dfdf5",
   "metadata": {},
   "outputs": [
    {
     "data": {
      "text/html": [
       "<div>\n",
       "<style scoped>\n",
       "    .dataframe tbody tr th:only-of-type {\n",
       "        vertical-align: middle;\n",
       "    }\n",
       "\n",
       "    .dataframe tbody tr th {\n",
       "        vertical-align: top;\n",
       "    }\n",
       "\n",
       "    .dataframe thead th {\n",
       "        text-align: right;\n",
       "    }\n",
       "</style>\n",
       "<table border=\"1\" class=\"dataframe\">\n",
       "  <thead>\n",
       "    <tr style=\"text-align: right;\">\n",
       "      <th></th>\n",
       "      <th>Segment</th>\n",
       "      <th>Leads</th>\n",
       "      <th>MQLs</th>\n",
       "      <th>Opportunities</th>\n",
       "    </tr>\n",
       "  </thead>\n",
       "  <tbody>\n",
       "    <tr>\n",
       "      <th>0</th>\n",
       "      <td>Emerging</td>\n",
       "      <td>606</td>\n",
       "      <td>109</td>\n",
       "      <td>8.0</td>\n",
       "    </tr>\n",
       "    <tr>\n",
       "      <th>1</th>\n",
       "      <td>Enterprise</td>\n",
       "      <td>500</td>\n",
       "      <td>73</td>\n",
       "      <td>8.0</td>\n",
       "    </tr>\n",
       "    <tr>\n",
       "      <th>2</th>\n",
       "      <td>Other</td>\n",
       "      <td>48</td>\n",
       "      <td>4</td>\n",
       "      <td>1.0</td>\n",
       "    </tr>\n",
       "    <tr>\n",
       "      <th>3</th>\n",
       "      <td>SMB</td>\n",
       "      <td>106</td>\n",
       "      <td>94</td>\n",
       "      <td>28.0</td>\n",
       "    </tr>\n",
       "    <tr>\n",
       "      <th>4</th>\n",
       "      <td>Scale</td>\n",
       "      <td>161</td>\n",
       "      <td>49</td>\n",
       "      <td>9.0</td>\n",
       "    </tr>\n",
       "    <tr>\n",
       "      <th>5</th>\n",
       "      <td>Unmatched</td>\n",
       "      <td>841</td>\n",
       "      <td>104</td>\n",
       "      <td>NaN</td>\n",
       "    </tr>\n",
       "  </tbody>\n",
       "</table>\n",
       "</div>"
      ],
      "text/plain": [
       "      Segment  Leads  MQLs  Opportunities\n",
       "0    Emerging    606   109            8.0\n",
       "1  Enterprise    500    73            8.0\n",
       "2       Other     48     4            1.0\n",
       "3         SMB    106    94           28.0\n",
       "4       Scale    161    49            9.0\n",
       "5   Unmatched    841   104            NaN"
      ]
     },
     "execution_count": 18,
     "metadata": {},
     "output_type": "execute_result"
    }
   ],
   "source": [
    "df_seg"
   ]
  },
  {
   "cell_type": "code",
   "execution_count": 19,
   "id": "96f56852",
   "metadata": {},
   "outputs": [],
   "source": [
    "# Melting the DataFrame to create the chart\n",
    "df_melted = df_seg.melt(id_vars='Segment', var_name='Metric', value_name='Value')"
   ]
  },
  {
   "cell_type": "code",
   "execution_count": 20,
   "id": "ff5ee95a",
   "metadata": {},
   "outputs": [
    {
     "data": {
      "image/png": "[encoded data removed]",
      "text/plain": [
       "<Figure size 600x300 with 1 Axes>"
      ]
     },
     "metadata": {},
     "output_type": "display_data"
    }
   ],
   "source": [
    "plt.figure(figsize=(6, 3))\n",
    "bar_plot = sns.barplot(x='Segment', y='Value', hue='Metric', data=df_melted, palette=\"Paired\")\n",
    "\n",
    "plt.title('Funnel Stages Results by Segment')\n",
    "plt.show()"
   ]
  },
  {
   "cell_type": "markdown",
   "id": "f4304691",
   "metadata": {},
   "source": [
    "#### 3. Provide a paid media channel split for each funnel stage (Leads, MQLs, Pipeline Opportunties and CW Bookings) "
   ]
  },
  {
   "cell_type": "code",
   "execution_count": 21,
   "id": "c9bd5aa5",
   "metadata": {},
   "outputs": [],
   "source": [
    "# Renaming for alignment\n",
    "categories_mapping = {\n",
    "    'paid-content-syndication': 'Content Syndication',\n",
    "    'paid-display-ads': 'Paid Display',\n",
    "    'paid-remarketing': 'Remarketing',\n",
    "    'paid-search': 'Paid Search',\n",
    "    'paid-social': 'Paid Social'\n",
    "}"
   ]
  },
  {
   "cell_type": "code",
   "execution_count": 22,
   "id": "02e5d69d",
   "metadata": {},
   "outputs": [],
   "source": [
    "mqls_funnel = mqls['UTM_Medium'].value_counts()"
   ]
  },
  {
   "cell_type": "code",
   "execution_count": 23,
   "id": "0fab998d",
   "metadata": {},
   "outputs": [],
   "source": [
    "opportunities_funnel = opportunities['UTM_Medium'].value_counts()"
   ]
  },
  {
   "cell_type": "code",
   "execution_count": 24,
   "id": "3cb22b22",
   "metadata": {},
   "outputs": [],
   "source": [
    "bookings_funnel = bookings['UTM_Medium'].value_counts()"
   ]
  },
  {
   "cell_type": "code",
   "execution_count": 25,
   "id": "d10c7e58",
   "metadata": {},
   "outputs": [],
   "source": [
    "leads_funnel = leads['UTM_Medium'].value_counts()"
   ]
  },
  {
   "cell_type": "code",
   "execution_count": 26,
   "id": "904522cd",
   "metadata": {},
   "outputs": [],
   "source": [
    "df_funnel = pd.DataFrame({'Leads': leads_funnel, \n",
    "                          'MQLs': mqls_funnel, \n",
    "                          'Opportunities': opportunities_funnel,\n",
    "                          'Bookings': bookings_funnel\n",
    "                         })\n",
    "df_funnel = df_funnel.reset_index()"
   ]
  },
  {
   "cell_type": "code",
   "execution_count": 27,
   "id": "acaea59e",
   "metadata": {},
   "outputs": [],
   "source": [
    "df_funnel = df_funnel.rename(columns={'UTM_Medium':'Channel'})"
   ]
  },
  {
   "cell_type": "code",
   "execution_count": 28,
   "id": "57c12cba",
   "metadata": {},
   "outputs": [],
   "source": [
    "#rename categories\n",
    "df_funnel['Channel'] = df_funnel['Channel'].replace(categories_mapping)"
   ]
  },
  {
   "cell_type": "code",
   "execution_count": 29,
   "id": "6078796f",
   "metadata": {},
   "outputs": [
    {
     "data": {
      "text/html": [
       "<div>\n",
       "<style scoped>\n",
       "    .dataframe tbody tr th:only-of-type {\n",
       "        vertical-align: middle;\n",
       "    }\n",
       "\n",
       "    .dataframe tbody tr th {\n",
       "        vertical-align: top;\n",
       "    }\n",
       "\n",
       "    .dataframe thead th {\n",
       "        text-align: right;\n",
       "    }\n",
       "</style>\n",
       "<table border=\"1\" class=\"dataframe\">\n",
       "  <thead>\n",
       "    <tr style=\"text-align: right;\">\n",
       "      <th></th>\n",
       "      <th>Channel</th>\n",
       "      <th>Leads</th>\n",
       "      <th>MQLs</th>\n",
       "      <th>Opportunities</th>\n",
       "      <th>Bookings</th>\n",
       "    </tr>\n",
       "  </thead>\n",
       "  <tbody>\n",
       "    <tr>\n",
       "      <th>0</th>\n",
       "      <td>Content Syndication</td>\n",
       "      <td>1260</td>\n",
       "      <td>150.0</td>\n",
       "      <td>4.0</td>\n",
       "      <td>1.0</td>\n",
       "    </tr>\n",
       "    <tr>\n",
       "      <th>1</th>\n",
       "      <td>Paid Display</td>\n",
       "      <td>5</td>\n",
       "      <td>1.0</td>\n",
       "      <td>NaN</td>\n",
       "      <td>NaN</td>\n",
       "    </tr>\n",
       "    <tr>\n",
       "      <th>2</th>\n",
       "      <td>Remarketing</td>\n",
       "      <td>1</td>\n",
       "      <td>NaN</td>\n",
       "      <td>NaN</td>\n",
       "      <td>NaN</td>\n",
       "    </tr>\n",
       "    <tr>\n",
       "      <th>3</th>\n",
       "      <td>Paid Search</td>\n",
       "      <td>635</td>\n",
       "      <td>243.0</td>\n",
       "      <td>44.0</td>\n",
       "      <td>7.0</td>\n",
       "    </tr>\n",
       "    <tr>\n",
       "      <th>4</th>\n",
       "      <td>Paid Social</td>\n",
       "      <td>361</td>\n",
       "      <td>39.0</td>\n",
       "      <td>6.0</td>\n",
       "      <td>1.0</td>\n",
       "    </tr>\n",
       "  </tbody>\n",
       "</table>\n",
       "</div>"
      ],
      "text/plain": [
       "               Channel  Leads   MQLs  Opportunities  Bookings\n",
       "0  Content Syndication   1260  150.0            4.0       1.0\n",
       "1         Paid Display      5    1.0            NaN       NaN\n",
       "2          Remarketing      1    NaN            NaN       NaN\n",
       "3          Paid Search    635  243.0           44.0       7.0\n",
       "4          Paid Social    361   39.0            6.0       1.0"
      ]
     },
     "execution_count": 29,
     "metadata": {},
     "output_type": "execute_result"
    }
   ],
   "source": [
    "df_funnel"
   ]
  },
  {
   "cell_type": "code",
   "execution_count": 30,
   "id": "aae4f99a",
   "metadata": {},
   "outputs": [],
   "source": [
    "# Melting the DataFrame to create the chart\n",
    "df_melted2 = df_funnel.melt(id_vars='Channel', var_name='Metric', value_name='Value')"
   ]
  },
  {
   "cell_type": "code",
   "execution_count": 31,
   "id": "daf64f13",
   "metadata": {},
   "outputs": [
    {
     "data": {
      "image/png": "[encoded data removed]",
      "text/plain": [
       "<Figure size 600x300 with 1 Axes>"
      ]
     },
     "metadata": {},
     "output_type": "display_data"
    }
   ],
   "source": [
    "plt.figure(figsize=(6, 3))\n",
    "bar_plot = sns.barplot(x='Channel', y='Value', hue='Metric', data=df_melted2, palette=\"Paired\")\n",
    "\n",
    "plt.title('Funnel Stages by Channel')\n",
    "plt.xticks(rotation=45)\n",
    "plt.show()"
   ]
  },
  {
   "cell_type": "markdown",
   "id": "5f72406b",
   "metadata": {},
   "source": [
    "#### 4. By channel, how many MQLs were handraisers? (1 = true, 0 = false)"
   ]
  },
  {
   "cell_type": "code",
   "execution_count": 32,
   "id": "0df3f800",
   "metadata": {},
   "outputs": [
    {
     "data": {
      "text/html": [
       "<div>\n",
       "<style scoped>\n",
       "    .dataframe tbody tr th:only-of-type {\n",
       "        vertical-align: middle;\n",
       "    }\n",
       "\n",
       "    .dataframe tbody tr th {\n",
       "        vertical-align: top;\n",
       "    }\n",
       "\n",
       "    .dataframe thead th {\n",
       "        text-align: right;\n",
       "    }\n",
       "</style>\n",
       "<table border=\"1\" class=\"dataframe\">\n",
       "  <thead>\n",
       "    <tr style=\"text-align: right;\">\n",
       "      <th></th>\n",
       "      <th>Channel</th>\n",
       "      <th>Handraisers</th>\n",
       "    </tr>\n",
       "  </thead>\n",
       "  <tbody>\n",
       "    <tr>\n",
       "      <th>2</th>\n",
       "      <td>Paid Search</td>\n",
       "      <td>210</td>\n",
       "    </tr>\n",
       "    <tr>\n",
       "      <th>0</th>\n",
       "      <td>Content Syndication</td>\n",
       "      <td>4</td>\n",
       "    </tr>\n",
       "    <tr>\n",
       "      <th>3</th>\n",
       "      <td>Paid Social</td>\n",
       "      <td>3</td>\n",
       "    </tr>\n",
       "    <tr>\n",
       "      <th>1</th>\n",
       "      <td>Paid Display</td>\n",
       "      <td>0</td>\n",
       "    </tr>\n",
       "  </tbody>\n",
       "</table>\n",
       "</div>"
      ],
      "text/plain": [
       "               Channel  Handraisers\n",
       "2          Paid Search          210\n",
       "0  Content Syndication            4\n",
       "3          Paid Social            3\n",
       "1         Paid Display            0"
      ]
     },
     "execution_count": 32,
     "metadata": {},
     "output_type": "execute_result"
    }
   ],
   "source": [
    "handraisers_by_channel = mqls.groupby('UTM_Medium')['Hand Raiser'].sum().reset_index(name='Handraisers')\n",
    "handraisers_by_channel.sort_values('Handraisers', ascending=False, inplace=True)\n",
    "handraisers_by_channel = handraisers_by_channel.rename(columns={'UTM_Medium': 'Channel'})\n",
    "handraisers_by_channel['Channel'] = handraisers_by_channel['Channel'].replace(categories_mapping)\n",
    "handraisers_by_channel"
   ]
  },
  {
   "cell_type": "code",
   "execution_count": 33,
   "id": "78317465",
   "metadata": {},
   "outputs": [
    {
     "data": {
      "image/png": "[encoded data removed]",
      "text/plain": [
       "<Figure size 600x300 with 1 Axes>"
      ]
     },
     "metadata": {},
     "output_type": "display_data"
    }
   ],
   "source": [
    "plt.figure(figsize=(6, 3))\n",
    "plt.bar(handraisers_by_channel['Channel'], handraisers_by_channel['Handraisers'].sort_values(ascending=False)) \n",
    "\n",
    "plt.title('Hand raisers by MQL Channel')\n",
    "plt.xticks(rotation=45) \n",
    "plt.show()"
   ]
  },
  {
   "cell_type": "markdown",
   "id": "1e54d21b",
   "metadata": {},
   "source": [
    "#### 5. For each channel, identify the following:  Lead to MQL conversion rate,  MQL to Pipeline Opportunity Conversion Rate, and the Pipeline Opportunity to Close Won Booking Conversion Rate"
   ]
  },
  {
   "cell_type": "code",
   "execution_count": 34,
   "id": "08e650f3",
   "metadata": {},
   "outputs": [],
   "source": [
    "df_conv_rate = df_funnel"
   ]
  },
  {
   "cell_type": "code",
   "execution_count": 35,
   "id": "98c71feb",
   "metadata": {},
   "outputs": [],
   "source": [
    "# Calculating Lead to MQL conversion rate\n",
    "df_conv_rate['convrate_lead_mql'] = round((df_conv_rate['MQLs'] / df_conv_rate['Leads']) * 100)"
   ]
  },
  {
   "cell_type": "code",
   "execution_count": 36,
   "id": "353ca365",
   "metadata": {},
   "outputs": [],
   "source": [
    "# Calculating MQL to Pipeline conversion rate\n",
    "df_conv_rate['convrate_mql_pipeline'] = round((df_conv_rate['Opportunities'] / df_conv_rate['MQLs']) * 100)"
   ]
  },
  {
   "cell_type": "code",
   "execution_count": 37,
   "id": "cac52527",
   "metadata": {},
   "outputs": [],
   "source": [
    "# Calculating Pipeline to Booking conversion rate\n",
    "df_conv_rate['convrate_pipeline_booking'] = round((df_conv_rate['Bookings'] / df_conv_rate['Opportunities']) * 100)"
   ]
  },
  {
   "cell_type": "code",
   "execution_count": 38,
   "id": "8b48a1c3",
   "metadata": {},
   "outputs": [],
   "source": [
    "df_conv_rate = df_conv_rate[['Channel','convrate_lead_mql', 'convrate_mql_pipeline', 'convrate_pipeline_booking']]"
   ]
  },
  {
   "cell_type": "code",
   "execution_count": 39,
   "id": "dd64c02a",
   "metadata": {},
   "outputs": [
    {
     "data": {
      "text/html": [
       "<div>\n",
       "<style scoped>\n",
       "    .dataframe tbody tr th:only-of-type {\n",
       "        vertical-align: middle;\n",
       "    }\n",
       "\n",
       "    .dataframe tbody tr th {\n",
       "        vertical-align: top;\n",
       "    }\n",
       "\n",
       "    .dataframe thead th {\n",
       "        text-align: right;\n",
       "    }\n",
       "</style>\n",
       "<table border=\"1\" class=\"dataframe\">\n",
       "  <thead>\n",
       "    <tr style=\"text-align: right;\">\n",
       "      <th></th>\n",
       "      <th>Channel</th>\n",
       "      <th>convrate_lead_mql</th>\n",
       "      <th>convrate_mql_pipeline</th>\n",
       "      <th>convrate_pipeline_booking</th>\n",
       "    </tr>\n",
       "  </thead>\n",
       "  <tbody>\n",
       "    <tr>\n",
       "      <th>0</th>\n",
       "      <td>Content Syndication</td>\n",
       "      <td>12.0</td>\n",
       "      <td>3.0</td>\n",
       "      <td>25.0</td>\n",
       "    </tr>\n",
       "    <tr>\n",
       "      <th>1</th>\n",
       "      <td>Paid Display</td>\n",
       "      <td>20.0</td>\n",
       "      <td>0.0</td>\n",
       "      <td>0.0</td>\n",
       "    </tr>\n",
       "    <tr>\n",
       "      <th>2</th>\n",
       "      <td>Remarketing</td>\n",
       "      <td>0.0</td>\n",
       "      <td>0.0</td>\n",
       "      <td>0.0</td>\n",
       "    </tr>\n",
       "    <tr>\n",
       "      <th>3</th>\n",
       "      <td>Paid Search</td>\n",
       "      <td>38.0</td>\n",
       "      <td>18.0</td>\n",
       "      <td>16.0</td>\n",
       "    </tr>\n",
       "    <tr>\n",
       "      <th>4</th>\n",
       "      <td>Paid Social</td>\n",
       "      <td>11.0</td>\n",
       "      <td>15.0</td>\n",
       "      <td>17.0</td>\n",
       "    </tr>\n",
       "  </tbody>\n",
       "</table>\n",
       "</div>"
      ],
      "text/plain": [
       "               Channel  convrate_lead_mql  convrate_mql_pipeline  \\\n",
       "0  Content Syndication               12.0                    3.0   \n",
       "1         Paid Display               20.0                    0.0   \n",
       "2          Remarketing                0.0                    0.0   \n",
       "3          Paid Search               38.0                   18.0   \n",
       "4          Paid Social               11.0                   15.0   \n",
       "\n",
       "   convrate_pipeline_booking  \n",
       "0                       25.0  \n",
       "1                        0.0  \n",
       "2                        0.0  \n",
       "3                       16.0  \n",
       "4                       17.0  "
      ]
     },
     "execution_count": 39,
     "metadata": {},
     "output_type": "execute_result"
    }
   ],
   "source": [
    "df_conv_rate = df_conv_rate.fillna(0)\n",
    "df_conv_rate['Channel'] = df_conv_rate['Channel'].replace(categories_mapping)\n",
    "df_conv_rate"
   ]
  },
  {
   "cell_type": "code",
   "execution_count": 40,
   "id": "17a8950e",
   "metadata": {},
   "outputs": [
    {
     "data": {
      "image/png": "[encoded data removed]",
      "text/plain": [
       "<Figure size 600x400 with 1 Axes>"
      ]
     },
     "metadata": {},
     "output_type": "display_data"
    }
   ],
   "source": [
    "n_channels = len(df_conv_rate['Channel'])\n",
    "\n",
    "# Setting the positions for the bars\n",
    "ind = np.arange(n_channels)  # the x locations for the groups\n",
    "width = 0.2 # the width of the bars\n",
    "\n",
    "fig, ax = plt.subplots(figsize=(6, 4))\n",
    "\n",
    "bars1 = ax.bar(ind - width, df_conv_rate['convrate_lead_mql'], width, label='Lead to MQL')\n",
    "bars2 = ax.bar(ind, df_conv_rate['convrate_mql_pipeline'], width, label='MQL to Pipeline')\n",
    "bars3 = ax.bar(ind + width, df_conv_rate['convrate_pipeline_booking'], width, label='Pipeline to Booking')\n",
    "\n",
    "ax.set_ylabel('Conversion Rate (%)')\n",
    "ax.set_title('Funnel Stages Conversions Rate by Channel')\n",
    "ax.set_xticks(ind)\n",
    "ax.set_xticklabels(df_conv_rate['Channel'])\n",
    "ax.legend()\n",
    "plt.xticks(rotation=45)\n",
    "plt.tight_layout()\n",
    "plt.show()"
   ]
  },
  {
   "cell_type": "markdown",
   "id": "9e4be895",
   "metadata": {},
   "source": [
    "#### 6. For each channel, identify the following:  Cost per lead, cost per MQL, cost per Opportunity, cost per Closed Won booking"
   ]
  },
  {
   "cell_type": "code",
   "execution_count": 41,
   "id": "9d79cc73",
   "metadata": {},
   "outputs": [],
   "source": [
    "# Convert Spend to numeric\n",
    "spend['Spend'] = spend['Spend'].replace({'R\\$': '', '\\.': '', ',': '.'}, regex=True).astype(float)"
   ]
  },
  {
   "cell_type": "code",
   "execution_count": 42,
   "id": "d63cf563",
   "metadata": {},
   "outputs": [],
   "source": [
    "#rename categories\n",
    "df_funnel['Channel'] = df_funnel['Channel'].replace(categories_mapping)"
   ]
  },
  {
   "cell_type": "code",
   "execution_count": 43,
   "id": "ef7c6f6a",
   "metadata": {},
   "outputs": [],
   "source": [
    "spend['Channel'] = spend['Channel'].replace({'Content Syndication ':'Content Syndication'})"
   ]
  },
  {
   "cell_type": "code",
   "execution_count": 44,
   "id": "1e4439c0",
   "metadata": {},
   "outputs": [],
   "source": [
    "df_funnel = df_funnel[['Channel', 'Leads', 'MQLs', 'Opportunities', 'Bookings']]"
   ]
  },
  {
   "cell_type": "code",
   "execution_count": 45,
   "id": "f857ddf3",
   "metadata": {},
   "outputs": [],
   "source": [
    "spend = spend[['Channel', 'Spend']]"
   ]
  },
  {
   "cell_type": "code",
   "execution_count": 46,
   "id": "fce44352",
   "metadata": {},
   "outputs": [],
   "source": [
    "merged_df = pd.merge(spend, df_funnel, on='Channel', how='left')"
   ]
  },
  {
   "cell_type": "code",
   "execution_count": 47,
   "id": "92128113",
   "metadata": {},
   "outputs": [],
   "source": [
    "merged_df = merged_df.sort_values('Channel')"
   ]
  },
  {
   "cell_type": "code",
   "execution_count": 48,
   "id": "79c32ea1",
   "metadata": {},
   "outputs": [],
   "source": [
    "# Calculate cost per metrics\n",
    "merged_df['Cost_per_Lead'] = merged_df['Spend'] / merged_df['Leads']\n",
    "merged_df['Cost_per_MQL'] = merged_df['Spend'] / merged_df['MQLs']\n",
    "merged_df['Cost_per_Pipeline'] = merged_df['Spend'] / merged_df['Opportunities']\n",
    "merged_df['Cost_per_Booking'] = merged_df['Spend'] / merged_df['Bookings']"
   ]
  },
  {
   "cell_type": "code",
   "execution_count": 49,
   "id": "4a7624e7",
   "metadata": {},
   "outputs": [],
   "source": [
    "merged_df = merged_df[['Channel', 'Spend','Cost_per_Lead', 'Cost_per_MQL','Cost_per_Pipeline', 'Cost_per_Booking']]"
   ]
  },
  {
   "cell_type": "code",
   "execution_count": 50,
   "id": "527bfcb9",
   "metadata": {},
   "outputs": [],
   "source": [
    "merged_df = merged_df.fillna(0)"
   ]
  },
  {
   "cell_type": "code",
   "execution_count": 51,
   "id": "9a937446",
   "metadata": {},
   "outputs": [
    {
     "data": {
      "text/html": [
       "<div>\n",
       "<style scoped>\n",
       "    .dataframe tbody tr th:only-of-type {\n",
       "        vertical-align: middle;\n",
       "    }\n",
       "\n",
       "    .dataframe tbody tr th {\n",
       "        vertical-align: top;\n",
       "    }\n",
       "\n",
       "    .dataframe thead th {\n",
       "        text-align: right;\n",
       "    }\n",
       "</style>\n",
       "<table border=\"1\" class=\"dataframe\">\n",
       "  <thead>\n",
       "    <tr style=\"text-align: right;\">\n",
       "      <th></th>\n",
       "      <th>Channel</th>\n",
       "      <th>Spend</th>\n",
       "      <th>Cost_per_Lead</th>\n",
       "      <th>Cost_per_MQL</th>\n",
       "      <th>Cost_per_Pipeline</th>\n",
       "      <th>Cost_per_Booking</th>\n",
       "    </tr>\n",
       "  </thead>\n",
       "  <tbody>\n",
       "    <tr>\n",
       "      <th>0</th>\n",
       "      <td>Content Syndication</td>\n",
       "      <td>100000.0</td>\n",
       "      <td>79.37</td>\n",
       "      <td>666.67</td>\n",
       "      <td>25000.00</td>\n",
       "      <td>100000.00</td>\n",
       "    </tr>\n",
       "    <tr>\n",
       "      <th>3</th>\n",
       "      <td>Paid Display</td>\n",
       "      <td>30000.0</td>\n",
       "      <td>6000.00</td>\n",
       "      <td>30000.00</td>\n",
       "      <td>0.00</td>\n",
       "      <td>0.00</td>\n",
       "    </tr>\n",
       "    <tr>\n",
       "      <th>2</th>\n",
       "      <td>Paid Search</td>\n",
       "      <td>435000.0</td>\n",
       "      <td>685.04</td>\n",
       "      <td>1790.12</td>\n",
       "      <td>9886.36</td>\n",
       "      <td>62142.86</td>\n",
       "    </tr>\n",
       "    <tr>\n",
       "      <th>1</th>\n",
       "      <td>Paid Social</td>\n",
       "      <td>111349.0</td>\n",
       "      <td>308.45</td>\n",
       "      <td>2855.10</td>\n",
       "      <td>18558.17</td>\n",
       "      <td>111349.00</td>\n",
       "    </tr>\n",
       "  </tbody>\n",
       "</table>\n",
       "</div>"
      ],
      "text/plain": [
       "               Channel     Spend  Cost_per_Lead  Cost_per_MQL  \\\n",
       "0  Content Syndication  100000.0          79.37        666.67   \n",
       "3         Paid Display   30000.0        6000.00      30000.00   \n",
       "2          Paid Search  435000.0         685.04       1790.12   \n",
       "1          Paid Social  111349.0         308.45       2855.10   \n",
       "\n",
       "   Cost_per_Pipeline  Cost_per_Booking  \n",
       "0           25000.00         100000.00  \n",
       "3               0.00              0.00  \n",
       "2            9886.36          62142.86  \n",
       "1           18558.17         111349.00  "
      ]
     },
     "execution_count": 51,
     "metadata": {},
     "output_type": "execute_result"
    }
   ],
   "source": [
    "round(merged_df, 2)"
   ]
  },
  {
   "cell_type": "code",
   "execution_count": 52,
   "id": "7c20c8d3",
   "metadata": {},
   "outputs": [],
   "source": [
    "merged_df.drop('Spend', axis=1, inplace=True)"
   ]
  },
  {
   "cell_type": "code",
   "execution_count": 53,
   "id": "155071ac",
   "metadata": {},
   "outputs": [],
   "source": [
    "merged_df['Total'] = merged_df[['Cost_per_Lead', 'Cost_per_MQL', 'Cost_per_Pipeline', 'Cost_per_Booking']].sum(axis=1)"
   ]
  },
  {
   "cell_type": "code",
   "execution_count": 54,
   "id": "80e9eaab",
   "metadata": {},
   "outputs": [],
   "source": [
    "# Sorting the DataFrame by Total in descending order\n",
    "sorted_df = merged_df.sort_values(by='Total', ascending=False)"
   ]
  },
  {
   "cell_type": "code",
   "execution_count": 55,
   "id": "1431631d",
   "metadata": {},
   "outputs": [],
   "source": [
    "sorted_df.drop('Total', axis=1, inplace=True)"
   ]
  },
  {
   "cell_type": "code",
   "execution_count": 56,
   "id": "bff8b999",
   "metadata": {},
   "outputs": [
    {
     "data": {
      "image/png": "[encoded data removed]",
      "text/plain": [
       "<Figure size 600x400 with 1 Axes>"
      ]
     },
     "metadata": {},
     "output_type": "display_data"
    }
   ],
   "source": [
    "ax = sorted_df.set_index('Channel').plot(kind='bar', stacked=True, figsize=(6, 4))\n",
    "\n",
    "plt.title('Funnel Stages Costs by Channel')\n",
    "plt.xticks(rotation=45) \n",
    "plt.show()"
   ]
  },
  {
   "cell_type": "markdown",
   "id": "5c369e4d",
   "metadata": {},
   "source": [
    "#### 7. Which utm_campaign generated the most new leads, the most new MQLS and the most new Opportunties?"
   ]
  },
  {
   "cell_type": "code",
   "execution_count": 57,
   "id": "4a8744ef",
   "metadata": {},
   "outputs": [],
   "source": [
    "leads_camp = leads['UTM_Campaign'].value_counts().head(1)"
   ]
  },
  {
   "cell_type": "code",
   "execution_count": 58,
   "id": "2c2e098a",
   "metadata": {},
   "outputs": [],
   "source": [
    "mqls_camp = mqls['UTM_Campaign'].value_counts().head(1)"
   ]
  },
  {
   "cell_type": "code",
   "execution_count": 59,
   "id": "82202312",
   "metadata": {},
   "outputs": [],
   "source": [
    "opportunities_camp = opportunities['UTM_Campaign'].value_counts().head(1)"
   ]
  },
  {
   "cell_type": "code",
   "execution_count": 60,
   "id": "2803444e",
   "metadata": {},
   "outputs": [],
   "source": [
    "df_campaigns = pd.DataFrame({'Leads': leads_camp, \n",
    "                          'MQLs': mqls_camp, \n",
    "                          'Opportunities': opportunities_camp\n",
    "                         })\n",
    "df_campaigns = df_campaigns.reset_index()"
   ]
  },
  {
   "cell_type": "code",
   "execution_count": 61,
   "id": "f522d6a3",
   "metadata": {},
   "outputs": [],
   "source": [
    "df_campaigns = df_campaigns.fillna(0)\n",
    "df_campaigns = df_campaigns.rename(columns={'index': 'UTM_Campaign'})"
   ]
  },
  {
   "cell_type": "code",
   "execution_count": 62,
   "id": "adbfe071",
   "metadata": {},
   "outputs": [
    {
     "data": {
      "text/html": [
       "<div>\n",
       "<style scoped>\n",
       "    .dataframe tbody tr th:only-of-type {\n",
       "        vertical-align: middle;\n",
       "    }\n",
       "\n",
       "    .dataframe tbody tr th {\n",
       "        vertical-align: top;\n",
       "    }\n",
       "\n",
       "    .dataframe thead th {\n",
       "        text-align: right;\n",
       "    }\n",
       "</style>\n",
       "<table border=\"1\" class=\"dataframe\">\n",
       "  <thead>\n",
       "    <tr style=\"text-align: right;\">\n",
       "      <th></th>\n",
       "      <th>UTM_Campaign</th>\n",
       "      <th>Leads</th>\n",
       "      <th>MQLs</th>\n",
       "      <th>Opportunities</th>\n",
       "    </tr>\n",
       "  </thead>\n",
       "  <tbody>\n",
       "    <tr>\n",
       "      <th>0</th>\n",
       "      <td>fy22-amer-brand_l_brand</td>\n",
       "      <td>0.0</td>\n",
       "      <td>0.0</td>\n",
       "      <td>28.0</td>\n",
       "    </tr>\n",
       "    <tr>\n",
       "      <th>1</th>\n",
       "      <td>fy22-amer-email_marketing_platform</td>\n",
       "      <td>0.0</td>\n",
       "      <td>81.0</td>\n",
       "      <td>0.0</td>\n",
       "    </tr>\n",
       "    <tr>\n",
       "      <th>2</th>\n",
       "      <td>fy23-q4-amer-customer_engagement_review_canada</td>\n",
       "      <td>330.0</td>\n",
       "      <td>0.0</td>\n",
       "      <td>0.0</td>\n",
       "    </tr>\n",
       "  </tbody>\n",
       "</table>\n",
       "</div>"
      ],
      "text/plain": [
       "                                     UTM_Campaign  Leads  MQLs  Opportunities\n",
       "0                         fy22-amer-brand_l_brand    0.0   0.0           28.0\n",
       "1              fy22-amer-email_marketing_platform    0.0  81.0            0.0\n",
       "2  fy23-q4-amer-customer_engagement_review_canada  330.0   0.0            0.0"
      ]
     },
     "execution_count": 62,
     "metadata": {},
     "output_type": "execute_result"
    }
   ],
   "source": [
    "df_campaigns"
   ]
  },
  {
   "cell_type": "markdown",
   "id": "fddae1b1",
   "metadata": {},
   "source": [
    "#### 8. What is the pipeline to spend ratio for each channel?"
   ]
  },
  {
   "cell_type": "code",
   "execution_count": 63,
   "id": "344bd4fc",
   "metadata": {},
   "outputs": [],
   "source": [
    "opportunities['Pipeline Amount'] = opportunities['Pipeline Amount'].replace({',': ''}, regex=True).astype(float)\n",
    "\n",
    "pipeline_amount_by_channel = opportunities.groupby('UTM_Medium')['Pipeline Amount'].sum()"
   ]
  },
  {
   "cell_type": "code",
   "execution_count": 64,
   "id": "fafafb30",
   "metadata": {},
   "outputs": [],
   "source": [
    "teste = pd.DataFrame({'Pipeline Amount': pipeline_amount_by_channel})\n",
    "teste = teste.reset_index()"
   ]
  },
  {
   "cell_type": "code",
   "execution_count": 65,
   "id": "1aca7628",
   "metadata": {},
   "outputs": [],
   "source": [
    "teste['UTM_Medium'] = teste['UTM_Medium'].replace(categories_mapping)"
   ]
  },
  {
   "cell_type": "code",
   "execution_count": 66,
   "id": "f62f4256",
   "metadata": {},
   "outputs": [],
   "source": [
    "pipeline = merged_df[['Channel']]\n",
    "pipeline = pipeline.rename(columns={'Channel': 'UTM_Medium'})"
   ]
  },
  {
   "cell_type": "code",
   "execution_count": 67,
   "id": "0e6e4b64",
   "metadata": {},
   "outputs": [],
   "source": [
    "fd_spend_ratio_pip = pd.merge(pipeline, teste, on='UTM_Medium', how='left')\n",
    "fd_spend_ratio_pip = fd_spend_ratio_pip.fillna(0)"
   ]
  },
  {
   "cell_type": "code",
   "execution_count": 68,
   "id": "7bbf6955",
   "metadata": {},
   "outputs": [],
   "source": [
    "fd_spend_ratio_pip = pd.merge(fd_spend_ratio_pip, spend, left_on='UTM_Medium', right_on='Channel', how='left')"
   ]
  },
  {
   "cell_type": "code",
   "execution_count": 69,
   "id": "677dace9",
   "metadata": {},
   "outputs": [],
   "source": [
    "fd_spend_ratio_pip['Pipeline Spend Ratio'] = round(fd_spend_ratio_pip['Pipeline Amount']/fd_spend_ratio_pip['Spend'])"
   ]
  },
  {
   "cell_type": "code",
   "execution_count": 70,
   "id": "8c5fe5b1",
   "metadata": {},
   "outputs": [
    {
     "data": {
      "text/html": [
       "<div>\n",
       "<style scoped>\n",
       "    .dataframe tbody tr th:only-of-type {\n",
       "        vertical-align: middle;\n",
       "    }\n",
       "\n",
       "    .dataframe tbody tr th {\n",
       "        vertical-align: top;\n",
       "    }\n",
       "\n",
       "    .dataframe thead th {\n",
       "        text-align: right;\n",
       "    }\n",
       "</style>\n",
       "<table border=\"1\" class=\"dataframe\">\n",
       "  <thead>\n",
       "    <tr style=\"text-align: right;\">\n",
       "      <th></th>\n",
       "      <th>Channel</th>\n",
       "      <th>Pipeline Amount</th>\n",
       "      <th>Spend</th>\n",
       "      <th>Pipeline Spend Ratio</th>\n",
       "    </tr>\n",
       "  </thead>\n",
       "  <tbody>\n",
       "    <tr>\n",
       "      <th>2</th>\n",
       "      <td>Paid Search</td>\n",
       "      <td>78343625.0</td>\n",
       "      <td>435000.0</td>\n",
       "      <td>180.0</td>\n",
       "    </tr>\n",
       "    <tr>\n",
       "      <th>0</th>\n",
       "      <td>Content Syndication</td>\n",
       "      <td>1039082.0</td>\n",
       "      <td>100000.0</td>\n",
       "      <td>10.0</td>\n",
       "    </tr>\n",
       "    <tr>\n",
       "      <th>3</th>\n",
       "      <td>Paid Social</td>\n",
       "      <td>438704.0</td>\n",
       "      <td>111349.0</td>\n",
       "      <td>4.0</td>\n",
       "    </tr>\n",
       "    <tr>\n",
       "      <th>1</th>\n",
       "      <td>Paid Display</td>\n",
       "      <td>0.0</td>\n",
       "      <td>30000.0</td>\n",
       "      <td>0.0</td>\n",
       "    </tr>\n",
       "  </tbody>\n",
       "</table>\n",
       "</div>"
      ],
      "text/plain": [
       "               Channel  Pipeline Amount     Spend  Pipeline Spend Ratio\n",
       "2          Paid Search       78343625.0  435000.0                 180.0\n",
       "0  Content Syndication        1039082.0  100000.0                  10.0\n",
       "3          Paid Social         438704.0  111349.0                   4.0\n",
       "1         Paid Display              0.0   30000.0                   0.0"
      ]
     },
     "execution_count": 70,
     "metadata": {},
     "output_type": "execute_result"
    }
   ],
   "source": [
    "fd_spend_ratio_pip = fd_spend_ratio_pip[['Channel', 'Pipeline Amount', 'Spend','Pipeline Spend Ratio']]\n",
    "fd_spend_ratio_pip = fd_spend_ratio_pip.sort_values('Pipeline Spend Ratio', ascending=False)\n",
    "fd_spend_ratio_pip"
   ]
  },
  {
   "cell_type": "code",
   "execution_count": 71,
   "id": "ccf54296",
   "metadata": {},
   "outputs": [
    {
     "data": {
      "image/png": "[encoded data removed]",
      "text/plain": [
       "<Figure size 600x400 with 1 Axes>"
      ]
     },
     "metadata": {},
     "output_type": "display_data"
    }
   ],
   "source": [
    "plt.figure(figsize=(6, 4))\n",
    "plt.bar(fd_spend_ratio_pip['Channel'], fd_spend_ratio_pip['Pipeline Spend Ratio'].sort_values(ascending=False))\n",
    "\n",
    "plt.title('Pipeline Spend Ratio by Channel')\n",
    "plt.xticks(rotation=45) \n",
    "\n",
    "plt.tight_layout()  \n",
    "plt.show()"
   ]
  },
  {
   "cell_type": "markdown",
   "id": "d201a432",
   "metadata": {},
   "source": [
    "#### 9. What is the the ROI for each channel?"
   ]
  },
  {
   "cell_type": "code",
   "execution_count": 72,
   "id": "c440431f",
   "metadata": {},
   "outputs": [],
   "source": [
    "bookings['Closed Won Bookings Amount'] = bookings['Closed Won Bookings Amount'].replace({',': ''}, regex=True).astype(float)"
   ]
  },
  {
   "cell_type": "code",
   "execution_count": 73,
   "id": "061be367",
   "metadata": {},
   "outputs": [],
   "source": [
    "closed_won_amount_by_channel = bookings.groupby('UTM_Medium')['Closed Won Bookings Amount'].sum()"
   ]
  },
  {
   "cell_type": "code",
   "execution_count": 74,
   "id": "c93e173d",
   "metadata": {},
   "outputs": [],
   "source": [
    "roi = pd.DataFrame({'Closed Won Bookings Amount': closed_won_amount_by_channel})\n",
    "roi = roi.reset_index()\n",
    "roi['UTM_Medium'] = roi['UTM_Medium'].replace(categories_mapping)"
   ]
  },
  {
   "cell_type": "code",
   "execution_count": 75,
   "id": "9f36cc0c",
   "metadata": {},
   "outputs": [],
   "source": [
    "spend = spend.rename(columns={'Channel': 'UTM_Medium'})"
   ]
  },
  {
   "cell_type": "code",
   "execution_count": 76,
   "id": "136b35f0",
   "metadata": {},
   "outputs": [],
   "source": [
    "roi_df = pd.merge(roi, spend, on='UTM_Medium', how='left')"
   ]
  },
  {
   "cell_type": "code",
   "execution_count": 77,
   "id": "a0e16842",
   "metadata": {},
   "outputs": [],
   "source": [
    "roi_df['ROI %'] = round(((roi_df['Closed Won Bookings Amount'] - roi_df['Spend']) / roi_df['Spend']) * 100, 2)"
   ]
  },
  {
   "cell_type": "code",
   "execution_count": 78,
   "id": "e488b351",
   "metadata": {},
   "outputs": [
    {
     "data": {
      "text/html": [
       "<div>\n",
       "<style scoped>\n",
       "    .dataframe tbody tr th:only-of-type {\n",
       "        vertical-align: middle;\n",
       "    }\n",
       "\n",
       "    .dataframe tbody tr th {\n",
       "        vertical-align: top;\n",
       "    }\n",
       "\n",
       "    .dataframe thead th {\n",
       "        text-align: right;\n",
       "    }\n",
       "</style>\n",
       "<table border=\"1\" class=\"dataframe\">\n",
       "  <thead>\n",
       "    <tr style=\"text-align: right;\">\n",
       "      <th></th>\n",
       "      <th>Channel</th>\n",
       "      <th>ROI %</th>\n",
       "    </tr>\n",
       "  </thead>\n",
       "  <tbody>\n",
       "    <tr>\n",
       "      <th>1</th>\n",
       "      <td>Paid Search</td>\n",
       "      <td>789.3</td>\n",
       "    </tr>\n",
       "    <tr>\n",
       "      <th>0</th>\n",
       "      <td>Content Syndication</td>\n",
       "      <td>415.0</td>\n",
       "    </tr>\n",
       "    <tr>\n",
       "      <th>2</th>\n",
       "      <td>Paid Social</td>\n",
       "      <td>-75.0</td>\n",
       "    </tr>\n",
       "  </tbody>\n",
       "</table>\n",
       "</div>"
      ],
      "text/plain": [
       "               Channel  ROI %\n",
       "1          Paid Search  789.3\n",
       "0  Content Syndication  415.0\n",
       "2          Paid Social  -75.0"
      ]
     },
     "execution_count": 78,
     "metadata": {},
     "output_type": "execute_result"
    }
   ],
   "source": [
    "roi_df = roi_df[['UTM_Medium', 'ROI %']]\n",
    "roi_df = roi_df.rename(columns={'UTM_Medium':'Channel'})\n",
    "roi_df = roi_df.sort_values('ROI %', ascending=False)\n",
    "roi_df"
   ]
  },
  {
   "cell_type": "markdown",
   "id": "5f7e3aaa",
   "metadata": {},
   "source": [
    "A positive ROI indicates a profitable return, whereas a negative ROI indicates a loss relative to the spend on that channel."
   ]
  },
  {
   "cell_type": "code",
   "execution_count": 79,
   "id": "ec9bf7ba",
   "metadata": {},
   "outputs": [
    {
     "data": {
      "image/png": "[encoded data removed]",
      "text/plain": [
       "<Figure size 600x400 with 1 Axes>"
      ]
     },
     "metadata": {},
     "output_type": "display_data"
    }
   ],
   "source": [
    "plt.figure(figsize=(6, 4))\n",
    "plt.barh(roi_df['Channel'], roi_df['ROI %'])\n",
    "\n",
    "plt.title('ROI (%) by Channel')\n",
    "plt.tight_layout()  \n",
    "plt.show()"
   ]
  },
  {
   "cell_type": "markdown",
   "id": "26c2e1cd",
   "metadata": {},
   "source": [
    "#### Add any additional data analysis that you think is worth including. "
   ]
  },
  {
   "cell_type": "markdown",
   "id": "fe9368f4",
   "metadata": {},
   "source": [
    "#### 10. Average Deal Size by Channel: Understanding the average size of closed won bookings to analyze which channels tend to bring larger deals."
   ]
  },
  {
   "cell_type": "code",
   "execution_count": 80,
   "id": "12a49228",
   "metadata": {},
   "outputs": [],
   "source": [
    "avg_deal_size = round(bookings.groupby('UTM_Medium')['Closed Won Bookings Amount'].mean().reset_index())"
   ]
  },
  {
   "cell_type": "code",
   "execution_count": 81,
   "id": "38b6968d",
   "metadata": {},
   "outputs": [],
   "source": [
    "avg_deal_size =avg_deal_size.rename(columns={'UTM_Medium': 'Channel', 'Closed Won Bookings Amount': 'Avg Deal Size'})"
   ]
  },
  {
   "cell_type": "code",
   "execution_count": 82,
   "id": "49a80121",
   "metadata": {},
   "outputs": [],
   "source": [
    "avg_deal_size = avg_deal_size.sort_values('Avg Deal Size', ascending= False)"
   ]
  },
  {
   "cell_type": "code",
   "execution_count": 83,
   "id": "a1f615b4",
   "metadata": {},
   "outputs": [],
   "source": [
    "#rename categories\n",
    "avg_deal_size['Channel'] = avg_deal_size['Channel'].replace(categories_mapping)"
   ]
  },
  {
   "cell_type": "code",
   "execution_count": 84,
   "id": "b6671126",
   "metadata": {},
   "outputs": [
    {
     "data": {
      "text/html": [
       "<div>\n",
       "<style scoped>\n",
       "    .dataframe tbody tr th:only-of-type {\n",
       "        vertical-align: middle;\n",
       "    }\n",
       "\n",
       "    .dataframe tbody tr th {\n",
       "        vertical-align: top;\n",
       "    }\n",
       "\n",
       "    .dataframe thead th {\n",
       "        text-align: right;\n",
       "    }\n",
       "</style>\n",
       "<table border=\"1\" class=\"dataframe\">\n",
       "  <thead>\n",
       "    <tr style=\"text-align: right;\">\n",
       "      <th></th>\n",
       "      <th>Channel</th>\n",
       "      <th>Avg Deal Size</th>\n",
       "    </tr>\n",
       "  </thead>\n",
       "  <tbody>\n",
       "    <tr>\n",
       "      <th>1</th>\n",
       "      <td>Paid Search</td>\n",
       "      <td>552634.0</td>\n",
       "    </tr>\n",
       "    <tr>\n",
       "      <th>0</th>\n",
       "      <td>Content Syndication</td>\n",
       "      <td>515000.0</td>\n",
       "    </tr>\n",
       "    <tr>\n",
       "      <th>2</th>\n",
       "      <td>Paid Social</td>\n",
       "      <td>27842.0</td>\n",
       "    </tr>\n",
       "  </tbody>\n",
       "</table>\n",
       "</div>"
      ],
      "text/plain": [
       "               Channel  Avg Deal Size\n",
       "1          Paid Search       552634.0\n",
       "0  Content Syndication       515000.0\n",
       "2          Paid Social        27842.0"
      ]
     },
     "execution_count": 84,
     "metadata": {},
     "output_type": "execute_result"
    }
   ],
   "source": [
    "avg_deal_size"
   ]
  },
  {
   "cell_type": "code",
   "execution_count": 85,
   "id": "e2d315ac",
   "metadata": {},
   "outputs": [
    {
     "data": {
      "image/png": "[encoded data removed]",
      "text/plain": [
       "<Figure size 600x400 with 1 Axes>"
      ]
     },
     "metadata": {},
     "output_type": "display_data"
    }
   ],
   "source": [
    "plt.figure(figsize=(6, 4))\n",
    "plt.bar(avg_deal_size['Channel'], avg_deal_size['Avg Deal Size'].sort_values(ascending=False))\n",
    "\n",
    "plt.title('Average Deal Size by Channel')\n",
    "plt.xticks(rotation=45) \n",
    "plt.tight_layout()\n",
    "plt.show()"
   ]
  }
 ],
 "metadata": {
  "kernelspec": {
   "display_name": "Python 3 (ipykernel)",
   "language": "python",
   "name": "python3"
  },
  "language_info": {
   "codemirror_mode": {
    "name": "ipython",
    "version": 3
   },
   "file_extension": ".py",
   "mimetype": "text/x-python",
   "name": "python",
   "nbconvert_exporter": "python",
   "pygments_lexer": "ipython3",
   "version": "3.11.5"
  }
 },
 "nbformat": 4,
 "nbformat_minor": 5
}
